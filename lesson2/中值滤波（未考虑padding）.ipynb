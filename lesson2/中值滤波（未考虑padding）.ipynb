{
 "cells": [
  {
   "cell_type": "code",
   "execution_count": 2,
   "metadata": {},
   "outputs": [],
   "source": [
    "import cv2\n",
    "import numpy as np"
   ]
  },
  {
   "cell_type": "code",
   "execution_count": 3,
   "metadata": {},
   "outputs": [
    {
     "ename": "NameError",
     "evalue": "name 'median' is not defined",
     "output_type": "error",
     "traceback": [
      "\u001b[1;31m---------------------------------------------------------------------------\u001b[0m",
      "\u001b[1;31mNameError\u001b[0m                                 Traceback (most recent call last)",
      "\u001b[1;32m<ipython-input-3-b4727d50a210>\u001b[0m in \u001b[0;36m<module>\u001b[1;34m\u001b[0m\n\u001b[0;32m     34\u001b[0m         \u001b[1;31m#print(img)\u001b[0m\u001b[1;33m\u001b[0m\u001b[1;33m\u001b[0m\u001b[0m\n\u001b[0;32m     35\u001b[0m \u001b[0mcv2\u001b[0m\u001b[1;33m.\u001b[0m\u001b[0mimshow\u001b[0m\u001b[1;33m(\u001b[0m\u001b[1;34m\"median_img\"\u001b[0m\u001b[1;33m,\u001b[0m \u001b[0mimg\u001b[0m\u001b[1;33m)\u001b[0m\u001b[1;33m\u001b[0m\u001b[0m\n\u001b[1;32m---> 36\u001b[1;33m \u001b[0mcv2\u001b[0m\u001b[1;33m.\u001b[0m\u001b[0mimwrite\u001b[0m\u001b[1;33m(\u001b[0m\u001b[0mmedian\u001b[0m\u001b[1;33m,\u001b[0m\u001b[0mimg\u001b[0m\u001b[1;33m)\u001b[0m\u001b[1;33m\u001b[0m\u001b[0m\n\u001b[0m\u001b[0;32m     37\u001b[0m \u001b[0mkey\u001b[0m \u001b[1;33m=\u001b[0m \u001b[0mcv2\u001b[0m\u001b[1;33m.\u001b[0m\u001b[0mwaitKey\u001b[0m\u001b[1;33m(\u001b[0m\u001b[1;33m)\u001b[0m\u001b[1;33m\u001b[0m\u001b[0m\n\u001b[0;32m     38\u001b[0m \u001b[1;32mif\u001b[0m \u001b[0mkey\u001b[0m \u001b[1;33m==\u001b[0m \u001b[1;36m27\u001b[0m\u001b[1;33m:\u001b[0m\u001b[1;33m\u001b[0m\u001b[0m\n",
      "\u001b[1;31mNameError\u001b[0m: name 'median' is not defined"
     ]
    }
   ],
   "source": [
    "def sort(b):\n",
    "    if len(b) < 2:#基例\n",
    "        return b\n",
    "    mid = b[0] # 选取基准，随便选哪个都可以\n",
    "    left, right = [], []# 定义基准值左右两个数列      \n",
    "    b.remove(mid)\n",
    "    for item in b:         \n",
    "        if item >= mid:\n",
    "            right.append(item)\n",
    "        else:\n",
    "            left.append(item)        \n",
    "    return (sort(left) + [mid] + sort(right))# 使用迭代进行比较\n",
    "\n",
    "img = cv2.imread(\"E:/graduate/CVtraining/lesson 2/salt.png\")\n",
    "cv2.imshow(\"salt\", img)\n",
    "img = cv2.cvtColor(img,cv2.COLOR_RGB2GRAY)\n",
    "height, width = img.shape\n",
    "#print(height)\n",
    "#print(width)\n",
    "for i in range(1,height-1):# 1 2 3 4 5 6 7 8 9 ...\n",
    "    for j in range(1,width-1):# 1 2 3 4 5 6 7 8 9 ...\n",
    "        #print(img[i,j])\n",
    "        list1 = []\n",
    "        for m in range(-1,2):#-1,0,1\n",
    "            for n in range(-1,2):#-1,0,1\n",
    "                gray = img[i+m,j+n]\n",
    "                list1.append(gray)\n",
    "       # print(list1)\n",
    "        #print(img)\n",
    "        medi = sort(list1)[4]\n",
    "        #print(sort(list1))\n",
    "        #print(medi)\n",
    "        img[i,j] = medi\n",
    "        #print(img)\n",
    "cv2.imshow(\"median_img\", img)\n",
    "key = cv2.waitKey()\n",
    "if key == 27:\n",
    "    cv2.destroyAllWindows()"
   ]
  },
  {
   "cell_type": "code",
   "execution_count": null,
   "metadata": {},
   "outputs": [],
   "source": []
  }
 ],
 "metadata": {
  "kernelspec": {
   "display_name": "Python 3",
   "language": "python",
   "name": "python3"
  },
  "language_info": {
   "codemirror_mode": {
    "name": "ipython",
    "version": 3
   },
   "file_extension": ".py",
   "mimetype": "text/x-python",
   "name": "python",
   "nbconvert_exporter": "python",
   "pygments_lexer": "ipython3",
   "version": "3.6.5"
  }
 },
 "nbformat": 4,
 "nbformat_minor": 2
}
