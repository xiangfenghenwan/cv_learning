{
 "cells": [
  {
   "cell_type": "code",
   "execution_count": 25,
   "metadata": {},
   "outputs": [
    {
     "ename": "SyntaxError",
     "evalue": "invalid syntax (<ipython-input-25-991ac569815a>, line 5)",
     "output_type": "error",
     "traceback": [
      "\u001b[1;36m  File \u001b[1;32m\"<ipython-input-25-991ac569815a>\"\u001b[1;36m, line \u001b[1;32m5\u001b[0m\n\u001b[1;33m    while iterations < k\u001b[0m\n\u001b[1;37m                         ^\u001b[0m\n\u001b[1;31mSyntaxError\u001b[0m\u001b[1;31m:\u001b[0m invalid syntax\n"
     ]
    }
   ],
   "source": [
    "iterations = 0\n",
    "best_model = null\n",
    "best_consensus_set = null\n",
    "best_error = 无穷大\n",
    "while iterations < k \n",
    "maybe_inliers = 从数据集中随机选择n个点\n",
    "maybe_model = 适合于maybe_inliers的模型参数\n",
    "consensus_set = maybe_inliers\n",
    "\n",
    "for 每个数据集中不属于maybe_inliers的点\n",
    "if 如果点适合于maybe_model，且错误小于t\n",
    "将点添加到consensus_set\n",
    "if consensus_set中的元素数目大于d\n",
    "已经找到了好的模型，现在测试该模型到底有多好\n",
    "better_model = 适合于consensus_set中所有点的模型参数\n",
    "this_error = better_model究竟如何适合这些点的度量\n",
    "if this_error < best_error\n",
    "我们发现了比以前好的模型，保存该模型直到更好的模型出现\n",
    "best_model =  better_model\n",
    "best_consensus_set = consensus_set\n",
    "best_error =  this_error\n",
    "增加迭代次数\n",
    "返回 best_model, best_consensus_set, best_error"
   ]
  },
  {
   "cell_type": "code",
   "execution_count": null,
   "metadata": {},
   "outputs": [],
   "source": []
  },
  {
   "cell_type": "code",
   "execution_count": null,
   "metadata": {},
   "outputs": [],
   "source": []
  }
 ],
 "metadata": {
  "kernelspec": {
   "display_name": "Python 3",
   "language": "python",
   "name": "python3"
  },
  "language_info": {
   "codemirror_mode": {
    "name": "ipython",
    "version": 3
   },
   "file_extension": ".py",
   "mimetype": "text/x-python",
   "name": "python",
   "nbconvert_exporter": "python",
   "pygments_lexer": "ipython3",
   "version": "3.6.5"
  }
 },
 "nbformat": 4,
 "nbformat_minor": 2
}
